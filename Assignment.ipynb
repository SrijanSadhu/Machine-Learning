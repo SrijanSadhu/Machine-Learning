{
 "cells": [
  {
   "cell_type": "code",
   "execution_count": 83,
   "metadata": {},
   "outputs": [],
   "source": [
    "import pandas as pd\n",
    "import matplotlib.pyplot as plt\n",
    "from datetime import datetime\n"
   ]
  },
  {
   "cell_type": "code",
   "execution_count": 2,
   "metadata": {},
   "outputs": [
    {
     "data": {
      "text/html": [
       "<div>\n",
       "<style scoped>\n",
       "    .dataframe tbody tr th:only-of-type {\n",
       "        vertical-align: middle;\n",
       "    }\n",
       "\n",
       "    .dataframe tbody tr th {\n",
       "        vertical-align: top;\n",
       "    }\n",
       "\n",
       "    .dataframe thead th {\n",
       "        text-align: right;\n",
       "    }\n",
       "</style>\n",
       "<table border=\"1\" class=\"dataframe\">\n",
       "  <thead>\n",
       "    <tr style=\"text-align: right;\">\n",
       "      <th></th>\n",
       "      <th>YEAR</th>\n",
       "      <th>MONTH</th>\n",
       "      <th>SUPPLIER</th>\n",
       "      <th>ITEM CODE</th>\n",
       "      <th>ITEM DESCRIPTION</th>\n",
       "      <th>ITEM TYPE</th>\n",
       "      <th>RETAIL SALES</th>\n",
       "      <th>RETAIL TRANSFERS</th>\n",
       "      <th>WAREHOUSE SALES</th>\n",
       "    </tr>\n",
       "  </thead>\n",
       "  <tbody>\n",
       "    <tr>\n",
       "      <th>0</th>\n",
       "      <td>2020</td>\n",
       "      <td>1</td>\n",
       "      <td>REPUBLIC NATIONAL DISTRIBUTING CO</td>\n",
       "      <td>100009</td>\n",
       "      <td>BOOTLEG RED - 750ML</td>\n",
       "      <td>WINE</td>\n",
       "      <td>0.00</td>\n",
       "      <td>0.0</td>\n",
       "      <td>2.0</td>\n",
       "    </tr>\n",
       "    <tr>\n",
       "      <th>1</th>\n",
       "      <td>2020</td>\n",
       "      <td>1</td>\n",
       "      <td>PWSWN INC</td>\n",
       "      <td>100024</td>\n",
       "      <td>MOMENT DE PLAISIR - 750ML</td>\n",
       "      <td>WINE</td>\n",
       "      <td>0.00</td>\n",
       "      <td>1.0</td>\n",
       "      <td>4.0</td>\n",
       "    </tr>\n",
       "    <tr>\n",
       "      <th>2</th>\n",
       "      <td>2020</td>\n",
       "      <td>1</td>\n",
       "      <td>RELIABLE CHURCHILL LLLP</td>\n",
       "      <td>1001</td>\n",
       "      <td>S SMITH ORGANIC PEAR CIDER - 18.7OZ</td>\n",
       "      <td>BEER</td>\n",
       "      <td>0.00</td>\n",
       "      <td>0.0</td>\n",
       "      <td>1.0</td>\n",
       "    </tr>\n",
       "    <tr>\n",
       "      <th>3</th>\n",
       "      <td>2020</td>\n",
       "      <td>1</td>\n",
       "      <td>LANTERNA DISTRIBUTORS INC</td>\n",
       "      <td>100145</td>\n",
       "      <td>SCHLINK HAUS KABINETT - 750ML</td>\n",
       "      <td>WINE</td>\n",
       "      <td>0.00</td>\n",
       "      <td>0.0</td>\n",
       "      <td>1.0</td>\n",
       "    </tr>\n",
       "    <tr>\n",
       "      <th>4</th>\n",
       "      <td>2020</td>\n",
       "      <td>1</td>\n",
       "      <td>DIONYSOS IMPORTS INC</td>\n",
       "      <td>100293</td>\n",
       "      <td>SANTORINI GAVALA WHITE - 750ML</td>\n",
       "      <td>WINE</td>\n",
       "      <td>0.82</td>\n",
       "      <td>0.0</td>\n",
       "      <td>0.0</td>\n",
       "    </tr>\n",
       "    <tr>\n",
       "      <th>...</th>\n",
       "      <td>...</td>\n",
       "      <td>...</td>\n",
       "      <td>...</td>\n",
       "      <td>...</td>\n",
       "      <td>...</td>\n",
       "      <td>...</td>\n",
       "      <td>...</td>\n",
       "      <td>...</td>\n",
       "      <td>...</td>\n",
       "    </tr>\n",
       "    <tr>\n",
       "      <th>307640</th>\n",
       "      <td>2020</td>\n",
       "      <td>9</td>\n",
       "      <td>CROWN IMPORTS</td>\n",
       "      <td>99201</td>\n",
       "      <td>NEGRA MODELO 2/12 NR - 12OZ</td>\n",
       "      <td>BEER</td>\n",
       "      <td>29.00</td>\n",
       "      <td>38.0</td>\n",
       "      <td>575.0</td>\n",
       "    </tr>\n",
       "    <tr>\n",
       "      <th>307641</th>\n",
       "      <td>2020</td>\n",
       "      <td>9</td>\n",
       "      <td>DIAGEO NORTH AMERICA INC</td>\n",
       "      <td>99228</td>\n",
       "      <td>KALIBER BREW NA 4/6 NR - 12OZ</td>\n",
       "      <td>NON-ALCOHOL</td>\n",
       "      <td>6.50</td>\n",
       "      <td>8.0</td>\n",
       "      <td>35.0</td>\n",
       "    </tr>\n",
       "    <tr>\n",
       "      <th>307642</th>\n",
       "      <td>2020</td>\n",
       "      <td>9</td>\n",
       "      <td>MILLER BREWING COMPANY</td>\n",
       "      <td>99236</td>\n",
       "      <td>BLUE MOON HARVEST PUMPKIN WHEAT-NR</td>\n",
       "      <td>BEER</td>\n",
       "      <td>1.00</td>\n",
       "      <td>0.0</td>\n",
       "      <td>64.0</td>\n",
       "    </tr>\n",
       "    <tr>\n",
       "      <th>307643</th>\n",
       "      <td>2020</td>\n",
       "      <td>9</td>\n",
       "      <td>DOPS INC</td>\n",
       "      <td>99260</td>\n",
       "      <td>CHIMAY PREMIERE RED CAP 6/4NR - 11.2OZ</td>\n",
       "      <td>BEER</td>\n",
       "      <td>0.17</td>\n",
       "      <td>0.0</td>\n",
       "      <td>1.0</td>\n",
       "    </tr>\n",
       "    <tr>\n",
       "      <th>307644</th>\n",
       "      <td>2020</td>\n",
       "      <td>9</td>\n",
       "      <td>NaN</td>\n",
       "      <td>WC</td>\n",
       "      <td>WINE CREDIT</td>\n",
       "      <td>REF</td>\n",
       "      <td>0.00</td>\n",
       "      <td>0.0</td>\n",
       "      <td>-70.0</td>\n",
       "    </tr>\n",
       "  </tbody>\n",
       "</table>\n",
       "<p>307645 rows × 9 columns</p>\n",
       "</div>"
      ],
      "text/plain": [
       "        YEAR  MONTH                           SUPPLIER ITEM CODE  \\\n",
       "0       2020      1  REPUBLIC NATIONAL DISTRIBUTING CO    100009   \n",
       "1       2020      1                          PWSWN INC    100024   \n",
       "2       2020      1            RELIABLE CHURCHILL LLLP      1001   \n",
       "3       2020      1          LANTERNA DISTRIBUTORS INC    100145   \n",
       "4       2020      1               DIONYSOS IMPORTS INC    100293   \n",
       "...      ...    ...                                ...       ...   \n",
       "307640  2020      9                      CROWN IMPORTS     99201   \n",
       "307641  2020      9           DIAGEO NORTH AMERICA INC     99228   \n",
       "307642  2020      9             MILLER BREWING COMPANY     99236   \n",
       "307643  2020      9                           DOPS INC     99260   \n",
       "307644  2020      9                                NaN        WC   \n",
       "\n",
       "                              ITEM DESCRIPTION    ITEM TYPE  RETAIL SALES  \\\n",
       "0                          BOOTLEG RED - 750ML         WINE          0.00   \n",
       "1                    MOMENT DE PLAISIR - 750ML         WINE          0.00   \n",
       "2          S SMITH ORGANIC PEAR CIDER - 18.7OZ         BEER          0.00   \n",
       "3                SCHLINK HAUS KABINETT - 750ML         WINE          0.00   \n",
       "4               SANTORINI GAVALA WHITE - 750ML         WINE          0.82   \n",
       "...                                        ...          ...           ...   \n",
       "307640             NEGRA MODELO 2/12 NR - 12OZ         BEER         29.00   \n",
       "307641           KALIBER BREW NA 4/6 NR - 12OZ  NON-ALCOHOL          6.50   \n",
       "307642      BLUE MOON HARVEST PUMPKIN WHEAT-NR         BEER          1.00   \n",
       "307643  CHIMAY PREMIERE RED CAP 6/4NR - 11.2OZ         BEER          0.17   \n",
       "307644                             WINE CREDIT          REF          0.00   \n",
       "\n",
       "        RETAIL TRANSFERS  WAREHOUSE SALES  \n",
       "0                    0.0              2.0  \n",
       "1                    1.0              4.0  \n",
       "2                    0.0              1.0  \n",
       "3                    0.0              1.0  \n",
       "4                    0.0              0.0  \n",
       "...                  ...              ...  \n",
       "307640              38.0            575.0  \n",
       "307641               8.0             35.0  \n",
       "307642               0.0             64.0  \n",
       "307643               0.0              1.0  \n",
       "307644               0.0            -70.0  \n",
       "\n",
       "[307645 rows x 9 columns]"
      ]
     },
     "execution_count": 2,
     "metadata": {},
     "output_type": "execute_result"
    }
   ],
   "source": [
    "data = pd.read_csv(\"Warehouse_and_Retail_Sales.csv\")\n",
    "data"
   ]
  },
  {
   "cell_type": "code",
   "execution_count": 31,
   "metadata": {},
   "outputs": [
    {
     "data": {
      "text/plain": [
       "YEAR\n",
       "2017    3020583.70\n",
       "2018     673122.09\n",
       "2019    4503562.43\n",
       "2020    1745387.43\n",
       "dtype: float64"
      ]
     },
     "execution_count": 31,
     "metadata": {},
     "output_type": "execute_result"
    }
   ],
   "source": [
    "total = data.groupby(by=[\"YEAR\"])['RETAIL SALES'].sum()+data.groupby(by=[\"YEAR\"])['WAREHOUSE SALES'].sum()\n",
    "total\n",
    "# Per year total sales"
   ]
  },
  {
   "cell_type": "code",
   "execution_count": 28,
   "metadata": {},
   "outputs": [
    {
     "data": {
      "text/plain": [
       "<Axes:xlabel='YEAR'>"
      ]
     },
     "execution_count": 28,
     "metadata": {},
     "output_type": "execute_result"
    },
    {
     "data": {
      "image/png": "[encoded data removed]",
      "text/plain": [
       "<Figure size 640x480 with 1 Axes>"
      ]
     },
     "metadata": {},
     "output_type": "display_data"
    }
   ],
   "source": [
    "fig = plt.figure()\n",
    "axes=fig.add_axes([0,0,1,1])\n",
    "axes.set_yticks([3020583.70,673122.09,4503562.43,1745387.43]) \n",
    "\n",
    "axes.set_yticklabels([3020583.70,673122.09,4503562.43,1745387.43]) \n",
    "\n",
    "total.plot(kind='bar')\n",
    "\n",
    "# Visualization of total sales per year"
   ]
  },
  {
   "cell_type": "code",
   "execution_count": 35,
   "metadata": {},
   "outputs": [],
   "source": [
    "data['TOTAL SALES']=data['RETAIL SALES']+data['WAREHOUSE SALES']"
   ]
  },
  {
   "cell_type": "code",
   "execution_count": 60,
   "metadata": {},
   "outputs": [
    {
     "name": "stdout",
     "output_type": "stream",
     "text": [
      "SUPPLIER\n",
      "CROWN IMPORTS             1736309.17\n",
      "MILLER BREWING COMPANY    1512585.15\n",
      "ANHEUSER BUSCH INC        1441131.66\n",
      "HEINEKEN USA               885936.37\n",
      "E & J GALLO WINERY         363634.31\n",
      "Name: TOTAL SALES, dtype: float64\n"
     ]
    }
   ],
   "source": [
    "top_5_suppliers = data.groupby(by=[\"SUPPLIER\"])['TOTAL SALES'].sum()\n",
    "top_5_suppliers=top_5_suppliers.sort_values(ascending=False).head(5)\n",
    "print(top_5_suppliers)\n",
    "\n",
    "# Determine top 5 suppliers based on total sales"
   ]
  },
  {
   "cell_type": "code",
   "execution_count": 69,
   "metadata": {},
   "outputs": [
    {
     "name": "stdout",
     "output_type": "stream",
     "text": [
      "ITEM CODE  ITEM DESCRIPTION                    ITEM TYPE\n",
      "23445      CORONA EXTRA LOOSE NR - 12OZ        BEER         328224.83\n",
      "96750      CORONA EXTRA 2/12 NR - 12OZ         BEER         257679.62\n",
      "23886      HEINEKEN LOOSE NR - 12OZ            BEER         189711.21\n",
      "96970      HEINEKEN 2/12 NR - 12OZ             BEER         162224.15\n",
      "90590      MILLER LITE 30PK CAN - 12OZ         BEER         148926.40\n",
      "96741      CORONA EXTRA 4/6 NR - 12OZ          BEER         132665.61\n",
      "25883      MODELO ESPECIAL 24 LOOSE NR - 12OZ  BEER         121846.80\n",
      "90468      BUD LIGHT 30PK CAN                  BEER         108615.97\n",
      "96083      HEINEKEN 4/6 NR - 12OZ              BEER         105184.92\n",
      "23314      CORONA EXTRA 18PK NR - 12OZ         BEER         100664.44\n",
      "Name: TOTAL SALES, dtype: float64\n"
     ]
    }
   ],
   "source": [
    "top_10_items = data.groupby([\"ITEM CODE\",\"ITEM DESCRIPTION\",\"ITEM TYPE\"])['TOTAL SALES'].sum()\n",
    "top_10_items = top_10_items.sort_values(ascending=False).head(10)\n",
    "print(top_10_items)\n",
    "# top 10 best-selling items (based on total sales)"
   ]
  },
  {
   "cell_type": "code",
   "execution_count": 70,
   "metadata": {},
   "outputs": [
    {
     "data": {
      "text/plain": [
       "YEAR\n",
       "2017    57227.880833\n",
       "2018    12799.658333\n",
       "2019    80015.933333\n",
       "2020    30031.475000\n",
       "Name: RETAIL SALES, dtype: float64"
      ]
     },
     "execution_count": 70,
     "metadata": {},
     "output_type": "execute_result"
    }
   ],
   "source": [
    "total_retail = data.groupby(by=[\"YEAR\"])['RETAIL SALES'].sum()\n",
    "avg_retail = total_retail/12\n",
    "avg_retail\n",
    "#average retail sales for each year"
   ]
  },
  {
   "cell_type": "code",
   "execution_count": 71,
   "metadata": {},
   "outputs": [
    {
     "data": {
      "text/plain": [
       "YEAR\n",
       "2017    194487.427500\n",
       "2018     43293.849167\n",
       "2019    295280.935833\n",
       "2020    115417.477500\n",
       "Name: WAREHOUSE SALES, dtype: float64"
      ]
     },
     "execution_count": 71,
     "metadata": {},
     "output_type": "execute_result"
    }
   ],
   "source": [
    "total_warehouse = data.groupby(by=[\"YEAR\"])['WAREHOUSE SALES'].sum()\n",
    "avg_warehouse = total_warehouse/12\n",
    "avg_warehouse\n",
    "#average warehouse sales for each year"
   ]
  },
  {
   "cell_type": "code",
   "execution_count": 84,
   "metadata": {},
   "outputs": [
    {
     "data": {
      "text/html": [
       "<div>\n",
       "<style scoped>\n",
       "    .dataframe tbody tr th:only-of-type {\n",
       "        vertical-align: middle;\n",
       "    }\n",
       "\n",
       "    .dataframe tbody tr th {\n",
       "        vertical-align: top;\n",
       "    }\n",
       "\n",
       "    .dataframe thead th {\n",
       "        text-align: right;\n",
       "    }\n",
       "</style>\n",
       "<table border=\"1\" class=\"dataframe\">\n",
       "  <thead>\n",
       "    <tr style=\"text-align: right;\">\n",
       "      <th></th>\n",
       "      <th>YEAR</th>\n",
       "      <th>MONTH</th>\n",
       "      <th>SUPPLIER</th>\n",
       "      <th>ITEM CODE</th>\n",
       "      <th>ITEM DESCRIPTION</th>\n",
       "      <th>ITEM TYPE</th>\n",
       "      <th>RETAIL SALES</th>\n",
       "      <th>RETAIL TRANSFERS</th>\n",
       "      <th>WAREHOUSE SALES</th>\n",
       "      <th>TOTAL SALES</th>\n",
       "      <th>DATE</th>\n",
       "    </tr>\n",
       "  </thead>\n",
       "  <tbody>\n",
       "    <tr>\n",
       "      <th>13281</th>\n",
       "      <td>1970-01-01 00:00:00.000002020</td>\n",
       "      <td>1970-01-01 00:00:00.000000007</td>\n",
       "      <td>CROWN IMPORTS</td>\n",
       "      <td>23445</td>\n",
       "      <td>CORONA EXTRA LOOSE NR - 12OZ</td>\n",
       "      <td>BEER</td>\n",
       "      <td>1174.0</td>\n",
       "      <td>1041.0</td>\n",
       "      <td>18317.00</td>\n",
       "      <td>19491.00</td>\n",
       "      <td>2020-07-01</td>\n",
       "    </tr>\n",
       "    <tr>\n",
       "      <th>209265</th>\n",
       "      <td>1970-01-01 00:00:00.000002019</td>\n",
       "      <td>1970-01-01 00:00:00.000000005</td>\n",
       "      <td>CROWN IMPORTS</td>\n",
       "      <td>23445</td>\n",
       "      <td>CORONA EXTRA LOOSE NR - 12OZ</td>\n",
       "      <td>BEER</td>\n",
       "      <td>1373.0</td>\n",
       "      <td>1207.0</td>\n",
       "      <td>17703.62</td>\n",
       "      <td>19076.62</td>\n",
       "      <td>2019-05-01</td>\n",
       "    </tr>\n",
       "    <tr>\n",
       "      <th>234412</th>\n",
       "      <td>1970-01-01 00:00:00.000002019</td>\n",
       "      <td>1970-01-01 00:00:00.000000007</td>\n",
       "      <td>CROWN IMPORTS</td>\n",
       "      <td>23445</td>\n",
       "      <td>CORONA EXTRA LOOSE NR - 12OZ</td>\n",
       "      <td>BEER</td>\n",
       "      <td>1198.0</td>\n",
       "      <td>1416.0</td>\n",
       "      <td>17810.87</td>\n",
       "      <td>19008.87</td>\n",
       "      <td>2019-07-01</td>\n",
       "    </tr>\n",
       "    <tr>\n",
       "      <th>104143</th>\n",
       "      <td>1970-01-01 00:00:00.000002017</td>\n",
       "      <td>1970-01-01 00:00:00.000000011</td>\n",
       "      <td>CROWN IMPORTS</td>\n",
       "      <td>23445</td>\n",
       "      <td>CORONA EXTRA LOOSE NR - 12OZ</td>\n",
       "      <td>BEER</td>\n",
       "      <td>992.0</td>\n",
       "      <td>981.0</td>\n",
       "      <td>16079.12</td>\n",
       "      <td>17071.12</td>\n",
       "      <td>2017-11-01</td>\n",
       "    </tr>\n",
       "    <tr>\n",
       "      <th>63521</th>\n",
       "      <td>1970-01-01 00:00:00.000002017</td>\n",
       "      <td>1970-01-01 00:00:00.000000008</td>\n",
       "      <td>CROWN IMPORTS</td>\n",
       "      <td>23445</td>\n",
       "      <td>CORONA EXTRA LOOSE NR - 12OZ</td>\n",
       "      <td>BEER</td>\n",
       "      <td>990.0</td>\n",
       "      <td>1077.0</td>\n",
       "      <td>15346.71</td>\n",
       "      <td>16336.71</td>\n",
       "      <td>2017-08-01</td>\n",
       "    </tr>\n",
       "    <tr>\n",
       "      <th>...</th>\n",
       "      <td>...</td>\n",
       "      <td>...</td>\n",
       "      <td>...</td>\n",
       "      <td>...</td>\n",
       "      <td>...</td>\n",
       "      <td>...</td>\n",
       "      <td>...</td>\n",
       "      <td>...</td>\n",
       "      <td>...</td>\n",
       "      <td>...</td>\n",
       "      <td>...</td>\n",
       "    </tr>\n",
       "    <tr>\n",
       "      <th>89605</th>\n",
       "      <td>1970-01-01 00:00:00.000002017</td>\n",
       "      <td>1970-01-01 00:00:00.000000010</td>\n",
       "      <td>ANHEUSER BUSCH INC</td>\n",
       "      <td>175</td>\n",
       "      <td>EMPTY 1/2 KEG (30.00)</td>\n",
       "      <td>DUNNAGE</td>\n",
       "      <td>0.0</td>\n",
       "      <td>0.0</td>\n",
       "      <td>-4996.00</td>\n",
       "      <td>-4996.00</td>\n",
       "      <td>2017-10-01</td>\n",
       "    </tr>\n",
       "    <tr>\n",
       "      <th>254206</th>\n",
       "      <td>1970-01-01 00:00:00.000002019</td>\n",
       "      <td>1970-01-01 00:00:00.000000008</td>\n",
       "      <td>NaN</td>\n",
       "      <td>600</td>\n",
       "      <td>ISTORE TRAINING OVERVIEW</td>\n",
       "      <td>REF</td>\n",
       "      <td>0.0</td>\n",
       "      <td>0.0</td>\n",
       "      <td>-7800.00</td>\n",
       "      <td>-7800.00</td>\n",
       "      <td>2019-08-01</td>\n",
       "    </tr>\n",
       "    <tr>\n",
       "      <th>18390</th>\n",
       "      <td>1970-01-01 00:00:00.000002020</td>\n",
       "      <td>1970-01-01 00:00:00.000000007</td>\n",
       "      <td>NaN</td>\n",
       "      <td>4</td>\n",
       "      <td>RMS ITEM</td>\n",
       "      <td>NON-ALCOHOL</td>\n",
       "      <td>NaN</td>\n",
       "      <td>0.0</td>\n",
       "      <td>0.00</td>\n",
       "      <td>NaN</td>\n",
       "      <td>2020-07-01</td>\n",
       "    </tr>\n",
       "    <tr>\n",
       "      <th>302867</th>\n",
       "      <td>1970-01-01 00:00:00.000002020</td>\n",
       "      <td>1970-01-01 00:00:00.000000009</td>\n",
       "      <td>NaN</td>\n",
       "      <td>4</td>\n",
       "      <td>RMS ITEM</td>\n",
       "      <td>NON-ALCOHOL</td>\n",
       "      <td>NaN</td>\n",
       "      <td>0.0</td>\n",
       "      <td>0.00</td>\n",
       "      <td>NaN</td>\n",
       "      <td>2020-09-01</td>\n",
       "    </tr>\n",
       "    <tr>\n",
       "      <th>307535</th>\n",
       "      <td>1970-01-01 00:00:00.000002020</td>\n",
       "      <td>1970-01-01 00:00:00.000000009</td>\n",
       "      <td>NaN</td>\n",
       "      <td>3</td>\n",
       "      <td>COUPON</td>\n",
       "      <td>NON-ALCOHOL</td>\n",
       "      <td>NaN</td>\n",
       "      <td>0.0</td>\n",
       "      <td>0.00</td>\n",
       "      <td>NaN</td>\n",
       "      <td>2020-09-01</td>\n",
       "    </tr>\n",
       "  </tbody>\n",
       "</table>\n",
       "<p>307645 rows × 11 columns</p>\n",
       "</div>"
      ],
      "text/plain": [
       "                                YEAR                         MONTH  \\\n",
       "13281  1970-01-01 00:00:00.000002020 1970-01-01 00:00:00.000000007   \n",
       "209265 1970-01-01 00:00:00.000002019 1970-01-01 00:00:00.000000005   \n",
       "234412 1970-01-01 00:00:00.000002019 1970-01-01 00:00:00.000000007   \n",
       "104143 1970-01-01 00:00:00.000002017 1970-01-01 00:00:00.000000011   \n",
       "63521  1970-01-01 00:00:00.000002017 1970-01-01 00:00:00.000000008   \n",
       "...                              ...                           ...   \n",
       "89605  1970-01-01 00:00:00.000002017 1970-01-01 00:00:00.000000010   \n",
       "254206 1970-01-01 00:00:00.000002019 1970-01-01 00:00:00.000000008   \n",
       "18390  1970-01-01 00:00:00.000002020 1970-01-01 00:00:00.000000007   \n",
       "302867 1970-01-01 00:00:00.000002020 1970-01-01 00:00:00.000000009   \n",
       "307535 1970-01-01 00:00:00.000002020 1970-01-01 00:00:00.000000009   \n",
       "\n",
       "                  SUPPLIER ITEM CODE              ITEM DESCRIPTION  \\\n",
       "13281        CROWN IMPORTS     23445  CORONA EXTRA LOOSE NR - 12OZ   \n",
       "209265       CROWN IMPORTS     23445  CORONA EXTRA LOOSE NR - 12OZ   \n",
       "234412       CROWN IMPORTS     23445  CORONA EXTRA LOOSE NR - 12OZ   \n",
       "104143       CROWN IMPORTS     23445  CORONA EXTRA LOOSE NR - 12OZ   \n",
       "63521        CROWN IMPORTS     23445  CORONA EXTRA LOOSE NR - 12OZ   \n",
       "...                    ...       ...                           ...   \n",
       "89605   ANHEUSER BUSCH INC       175         EMPTY 1/2 KEG (30.00)   \n",
       "254206                 NaN       600      ISTORE TRAINING OVERVIEW   \n",
       "18390                  NaN         4                      RMS ITEM   \n",
       "302867                 NaN         4                      RMS ITEM   \n",
       "307535                 NaN         3                        COUPON   \n",
       "\n",
       "          ITEM TYPE  RETAIL SALES  RETAIL TRANSFERS  WAREHOUSE SALES  \\\n",
       "13281          BEER        1174.0            1041.0         18317.00   \n",
       "209265         BEER        1373.0            1207.0         17703.62   \n",
       "234412         BEER        1198.0            1416.0         17810.87   \n",
       "104143         BEER         992.0             981.0         16079.12   \n",
       "63521          BEER         990.0            1077.0         15346.71   \n",
       "...             ...           ...               ...              ...   \n",
       "89605       DUNNAGE           0.0               0.0         -4996.00   \n",
       "254206          REF           0.0               0.0         -7800.00   \n",
       "18390   NON-ALCOHOL           NaN               0.0             0.00   \n",
       "302867  NON-ALCOHOL           NaN               0.0             0.00   \n",
       "307535  NON-ALCOHOL           NaN               0.0             0.00   \n",
       "\n",
       "        TOTAL SALES       DATE  \n",
       "13281      19491.00 2020-07-01  \n",
       "209265     19076.62 2019-05-01  \n",
       "234412     19008.87 2019-07-01  \n",
       "104143     17071.12 2017-11-01  \n",
       "63521      16336.71 2017-08-01  \n",
       "...             ...        ...  \n",
       "89605      -4996.00 2017-10-01  \n",
       "254206     -7800.00 2019-08-01  \n",
       "18390           NaN 2020-07-01  \n",
       "302867          NaN 2020-09-01  \n",
       "307535          NaN 2020-09-01  \n",
       "\n",
       "[307645 rows x 11 columns]"
      ]
     },
     "execution_count": 84,
     "metadata": {},
     "output_type": "execute_result"
    }
   ],
   "source": [
    "data['DATE'] = pd.to_datetime(data[['YEAR', 'MONTH']].assign(DAY=1))\n",
    "data"
   ]
  },
  {
   "cell_type": "code",
   "execution_count": 86,
   "metadata": {},
   "outputs": [
    {
     "data": {
      "text/plain": [
       "Text(0.5, 1.0, 'Market')"
      ]
     },
     "execution_count": 86,
     "metadata": {},
     "output_type": "execute_result"
    },
    {
     "data": {
      "image/png": "[encoded data removed]",
      "text/plain": [
       "<Figure size 640x480 with 1 Axes>"
      ]
     },
     "metadata": {},
     "output_type": "display_data"
    }
   ],
   "source": [
    "price_date = data['DATE']\n",
    "price_sale = data['TOTAL SALES']\n",
    "\n",
    "plt.plot_date(price_date, price_sale, linestyle='--', color='b')\n",
    "plt.title('Market', fontweight=\"bold\")\n",
    "\n",
    "#seasonal trends in sales data."
   ]
  },
  {
   "cell_type": "code",
   "execution_count": 76,
   "metadata": {},
   "outputs": [
    {
     "data": {
      "text/plain": [
       "ITEM CODE  ITEM DESCRIPTION                         ITEM TYPE\n",
       "100002     PATRON TEQUILA SILVER LTD - 1L           LIQUOR           0.17\n",
       "100007     LA CETTO CAB SAUV - 750ML                WINE             4.00\n",
       "100008     AMITY VINEYARDS P/NOIR 2013 - 750ML      WINE             3.00\n",
       "100009     BOOTLEG RED - 750ML                      WINE            19.72\n",
       "100011     PAPI P/GRIG - 1.5L                       WINE             3.00\n",
       "                                                                   ...   \n",
       "99988      SAM ADAMS HOPSCAPE 1/6 KG                KEGS            -1.00\n",
       "99990      SAM ADAMS AMERICAN SMMR VARIETY 12PK NR  BEER           769.00\n",
       "           SAM ADAMS SUMMER VARIETY 12PK NR         BEER          1679.16\n",
       "BC         BEER CREDIT                              REF         -10651.00\n",
       "WC         WINE CREDIT                              REF          -2048.00\n",
       "Name: TOTAL SALES, Length: 35164, dtype: float64"
      ]
     },
     "execution_count": 76,
     "metadata": {},
     "output_type": "execute_result"
    }
   ],
   "source": [
    "sale_items = data.groupby([\"ITEM CODE\",\"ITEM DESCRIPTION\",\"ITEM TYPE\"])['TOTAL SALES'].sum()\n",
    "sale_items"
   ]
  },
  {
   "cell_type": "code",
   "execution_count": 77,
   "metadata": {},
   "outputs": [
    {
     "name": "stdout",
     "output_type": "stream",
     "text": [
      "ITEM CODE  ITEM DESCRIPTION              ITEM TYPE\n",
      "23445      CORONA EXTRA LOOSE NR - 12OZ  BEER         328224.83\n",
      "Name: TOTAL SALES, dtype: float64\n"
     ]
    }
   ],
   "source": [
    "sale_items = sale_items.sort_values(ascending=False).head(1)\n",
    "print(sale_items)\n",
    "#item type which contributes the most to overall sales."
   ]
  }
 ],
 "metadata": {
  "kernelspec": {
   "display_name": "Python 3",
   "language": "python",
   "name": "python3"
  },
  "language_info": {
   "codemirror_mode": {
    "name": "ipython",
    "version": 3
   },
   "file_extension": ".py",
   "mimetype": "text/x-python",
   "name": "python",
   "nbconvert_exporter": "python",
   "pygments_lexer": "ipython3",
   "version": "3.10.5"
  },
  "orig_nbformat": 4
 },
 "nbformat": 4,
 "nbformat_minor": 2
}
